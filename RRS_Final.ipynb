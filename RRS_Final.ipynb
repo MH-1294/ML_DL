{
  "nbformat": 4,
  "nbformat_minor": 0,
  "metadata": {
    "colab": {
      "provenance": [],
      "authorship_tag": "ABX9TyNPNYZwg4LCRSwyffdgzdrP",
      "include_colab_link": true
    },
    "kernelspec": {
      "name": "python3",
      "display_name": "Python 3"
    },
    "language_info": {
      "name": "python"
    }
  },
  "cells": [
    {
      "cell_type": "markdown",
      "metadata": {
        "id": "view-in-github",
        "colab_type": "text"
      },
      "source": [
        "<a href=\"https://colab.research.google.com/github/MH-1294/ML_DL/blob/main/RRS_Final.ipynb\" target=\"_parent\"><img src=\"https://colab.research.google.com/assets/colab-badge.svg\" alt=\"Open In Colab\"/></a>"
      ]
    },
    {
      "cell_type": "code",
      "execution_count": 2,
      "metadata": {
        "colab": {
          "base_uri": "https://localhost:8080/",
          "height": 73
        },
        "id": "zWPvbsT4bRms",
        "outputId": "2f00d5b2-e7c3-4cdf-924d-cceb4320666b"
      },
      "outputs": [
        {
          "output_type": "display_data",
          "data": {
            "text/plain": [
              "<IPython.core.display.HTML object>"
            ],
            "text/html": [
              "\n",
              "     <input type=\"file\" id=\"files-64a6d5a0-655f-4f62-aad2-b3a24ccfbb41\" name=\"files[]\" multiple disabled\n",
              "        style=\"border:none\" />\n",
              "     <output id=\"result-64a6d5a0-655f-4f62-aad2-b3a24ccfbb41\">\n",
              "      Upload widget is only available when the cell has been executed in the\n",
              "      current browser session. Please rerun this cell to enable.\n",
              "      </output>\n",
              "      <script>// Copyright 2017 Google LLC\n",
              "//\n",
              "// Licensed under the Apache License, Version 2.0 (the \"License\");\n",
              "// you may not use this file except in compliance with the License.\n",
              "// You may obtain a copy of the License at\n",
              "//\n",
              "//      http://www.apache.org/licenses/LICENSE-2.0\n",
              "//\n",
              "// Unless required by applicable law or agreed to in writing, software\n",
              "// distributed under the License is distributed on an \"AS IS\" BASIS,\n",
              "// WITHOUT WARRANTIES OR CONDITIONS OF ANY KIND, either express or implied.\n",
              "// See the License for the specific language governing permissions and\n",
              "// limitations under the License.\n",
              "\n",
              "/**\n",
              " * @fileoverview Helpers for google.colab Python module.\n",
              " */\n",
              "(function(scope) {\n",
              "function span(text, styleAttributes = {}) {\n",
              "  const element = document.createElement('span');\n",
              "  element.textContent = text;\n",
              "  for (const key of Object.keys(styleAttributes)) {\n",
              "    element.style[key] = styleAttributes[key];\n",
              "  }\n",
              "  return element;\n",
              "}\n",
              "\n",
              "// Max number of bytes which will be uploaded at a time.\n",
              "const MAX_PAYLOAD_SIZE = 100 * 1024;\n",
              "\n",
              "function _uploadFiles(inputId, outputId) {\n",
              "  const steps = uploadFilesStep(inputId, outputId);\n",
              "  const outputElement = document.getElementById(outputId);\n",
              "  // Cache steps on the outputElement to make it available for the next call\n",
              "  // to uploadFilesContinue from Python.\n",
              "  outputElement.steps = steps;\n",
              "\n",
              "  return _uploadFilesContinue(outputId);\n",
              "}\n",
              "\n",
              "// This is roughly an async generator (not supported in the browser yet),\n",
              "// where there are multiple asynchronous steps and the Python side is going\n",
              "// to poll for completion of each step.\n",
              "// This uses a Promise to block the python side on completion of each step,\n",
              "// then passes the result of the previous step as the input to the next step.\n",
              "function _uploadFilesContinue(outputId) {\n",
              "  const outputElement = document.getElementById(outputId);\n",
              "  const steps = outputElement.steps;\n",
              "\n",
              "  const next = steps.next(outputElement.lastPromiseValue);\n",
              "  return Promise.resolve(next.value.promise).then((value) => {\n",
              "    // Cache the last promise value to make it available to the next\n",
              "    // step of the generator.\n",
              "    outputElement.lastPromiseValue = value;\n",
              "    return next.value.response;\n",
              "  });\n",
              "}\n",
              "\n",
              "/**\n",
              " * Generator function which is called between each async step of the upload\n",
              " * process.\n",
              " * @param {string} inputId Element ID of the input file picker element.\n",
              " * @param {string} outputId Element ID of the output display.\n",
              " * @return {!Iterable<!Object>} Iterable of next steps.\n",
              " */\n",
              "function* uploadFilesStep(inputId, outputId) {\n",
              "  const inputElement = document.getElementById(inputId);\n",
              "  inputElement.disabled = false;\n",
              "\n",
              "  const outputElement = document.getElementById(outputId);\n",
              "  outputElement.innerHTML = '';\n",
              "\n",
              "  const pickedPromise = new Promise((resolve) => {\n",
              "    inputElement.addEventListener('change', (e) => {\n",
              "      resolve(e.target.files);\n",
              "    });\n",
              "  });\n",
              "\n",
              "  const cancel = document.createElement('button');\n",
              "  inputElement.parentElement.appendChild(cancel);\n",
              "  cancel.textContent = 'Cancel upload';\n",
              "  const cancelPromise = new Promise((resolve) => {\n",
              "    cancel.onclick = () => {\n",
              "      resolve(null);\n",
              "    };\n",
              "  });\n",
              "\n",
              "  // Wait for the user to pick the files.\n",
              "  const files = yield {\n",
              "    promise: Promise.race([pickedPromise, cancelPromise]),\n",
              "    response: {\n",
              "      action: 'starting',\n",
              "    }\n",
              "  };\n",
              "\n",
              "  cancel.remove();\n",
              "\n",
              "  // Disable the input element since further picks are not allowed.\n",
              "  inputElement.disabled = true;\n",
              "\n",
              "  if (!files) {\n",
              "    return {\n",
              "      response: {\n",
              "        action: 'complete',\n",
              "      }\n",
              "    };\n",
              "  }\n",
              "\n",
              "  for (const file of files) {\n",
              "    const li = document.createElement('li');\n",
              "    li.append(span(file.name, {fontWeight: 'bold'}));\n",
              "    li.append(span(\n",
              "        `(${file.type || 'n/a'}) - ${file.size} bytes, ` +\n",
              "        `last modified: ${\n",
              "            file.lastModifiedDate ? file.lastModifiedDate.toLocaleDateString() :\n",
              "                                    'n/a'} - `));\n",
              "    const percent = span('0% done');\n",
              "    li.appendChild(percent);\n",
              "\n",
              "    outputElement.appendChild(li);\n",
              "\n",
              "    const fileDataPromise = new Promise((resolve) => {\n",
              "      const reader = new FileReader();\n",
              "      reader.onload = (e) => {\n",
              "        resolve(e.target.result);\n",
              "      };\n",
              "      reader.readAsArrayBuffer(file);\n",
              "    });\n",
              "    // Wait for the data to be ready.\n",
              "    let fileData = yield {\n",
              "      promise: fileDataPromise,\n",
              "      response: {\n",
              "        action: 'continue',\n",
              "      }\n",
              "    };\n",
              "\n",
              "    // Use a chunked sending to avoid message size limits. See b/62115660.\n",
              "    let position = 0;\n",
              "    do {\n",
              "      const length = Math.min(fileData.byteLength - position, MAX_PAYLOAD_SIZE);\n",
              "      const chunk = new Uint8Array(fileData, position, length);\n",
              "      position += length;\n",
              "\n",
              "      const base64 = btoa(String.fromCharCode.apply(null, chunk));\n",
              "      yield {\n",
              "        response: {\n",
              "          action: 'append',\n",
              "          file: file.name,\n",
              "          data: base64,\n",
              "        },\n",
              "      };\n",
              "\n",
              "      let percentDone = fileData.byteLength === 0 ?\n",
              "          100 :\n",
              "          Math.round((position / fileData.byteLength) * 100);\n",
              "      percent.textContent = `${percentDone}% done`;\n",
              "\n",
              "    } while (position < fileData.byteLength);\n",
              "  }\n",
              "\n",
              "  // All done.\n",
              "  yield {\n",
              "    response: {\n",
              "      action: 'complete',\n",
              "    }\n",
              "  };\n",
              "}\n",
              "\n",
              "scope.google = scope.google || {};\n",
              "scope.google.colab = scope.google.colab || {};\n",
              "scope.google.colab._files = {\n",
              "  _uploadFiles,\n",
              "  _uploadFilesContinue,\n",
              "};\n",
              "})(self);\n",
              "</script> "
            ]
          },
          "metadata": {}
        },
        {
          "output_type": "stream",
          "name": "stdout",
          "text": [
            "Saving Experiment_project.xlsx to Experiment_project.xlsx\n"
          ]
        }
      ],
      "source": [
        "from google.colab import files\n",
        "uploaded = files.upload()\n"
      ]
    },
    {
      "cell_type": "code",
      "source": [
        "import pandas as pd\n",
        "\n",
        "# Replace with your file name (after upload)\n",
        "file_name = list(uploaded.keys())[0]\n",
        "\n",
        "# Read all sheets first\n",
        "xls = pd.ExcelFile(file_name)\n",
        "print(\"Available sheets:\", xls.sheet_names)\n",
        "\n",
        "# Load the first sheet (or whichever you need)\n",
        "df = pd.read_excel(file_name, sheet_name=xls.sheet_names[0])\n",
        "\n",
        "# Show first few rows and columns\n",
        "print(\"Columns:\", df.columns.tolist())\n",
        "print(df.head())\n"
      ],
      "metadata": {
        "colab": {
          "base_uri": "https://localhost:8080/"
        },
        "id": "RiCOxg1icbVx",
        "outputId": "8de426ff-3b64-4e4b-e304-b68d39121d55"
      },
      "execution_count": 3,
      "outputs": [
        {
          "output_type": "stream",
          "name": "stdout",
          "text": [
            "Available sheets: ['Sheet1']\n",
            "Columns: ['Eps', 'Method', 'Region', 'Clean mIoU', 'Adv mIoU']\n",
            "   Eps           Method  Region  Clean mIoU  Adv mIoU\n",
            "0  0.0          Regular    Left      0.8318    0.8318\n",
            "1  NaN          Regular   Right      0.8318    0.8318\n",
            "2  NaN          Regular  Center      0.8318    0.8318\n",
            "3  NaN          Regular    Full      0.8318    0.8318\n",
            "4  NaN  Label_Smoothing    Left      0.8605    0.8605\n"
          ]
        }
      ]
    },
    {
      "cell_type": "code",
      "source": [
        "# Group by Eps and Method, then compute RRS across regions\n",
        "rrs = (\n",
        "    df.groupby([\"Eps\", \"Method\"])\n",
        "      .apply(lambda g: (g[\"Adv mIoU\"] / g[\"Clean mIoU\"]).mean())\n",
        "      .reset_index(name=\"RRS\")\n",
        ")\n",
        "\n",
        "print(rrs)\n"
      ],
      "metadata": {
        "colab": {
          "base_uri": "https://localhost:8080/"
        },
        "id": "LM2rpf4VeDhC",
        "outputId": "d8e52a84-4530-451b-c2d4-e7351431afa5"
      },
      "execution_count": 4,
      "outputs": [
        {
          "output_type": "stream",
          "name": "stdout",
          "text": [
            "    Eps   Method       RRS\n",
            "0  0.00  Regular  1.000000\n",
            "1  0.03  Regular  0.751367\n",
            "2  0.06  Regular  0.685524\n",
            "3  0.10  Regular  0.662539\n"
          ]
        },
        {
          "output_type": "stream",
          "name": "stderr",
          "text": [
            "/tmp/ipython-input-917310477.py:4: DeprecationWarning: DataFrameGroupBy.apply operated on the grouping columns. This behavior is deprecated, and in a future version of pandas the grouping columns will be excluded from the operation. Either pass `include_groups=False` to exclude the groupings or explicitly select the grouping columns after groupby to silence this warning.\n",
            "  .apply(lambda g: (g[\"Adv mIoU\"] / g[\"Clean mIoU\"]).mean())\n"
          ]
        }
      ]
    },
    {
      "cell_type": "code",
      "source": [
        "rrs_table = rrs.pivot(index=\"Eps\", columns=\"Method\", values=\"RRS\")\n",
        "print(rrs_table.round(3))  # round for readability\n"
      ],
      "metadata": {
        "colab": {
          "base_uri": "https://localhost:8080/"
        },
        "id": "WaX-7gmBeH3S",
        "outputId": "7176ff5b-1a2e-44ea-a78a-1fd0e6f9fa0f"
      },
      "execution_count": 5,
      "outputs": [
        {
          "output_type": "stream",
          "name": "stdout",
          "text": [
            "Method  Regular\n",
            "Eps            \n",
            "0.00      1.000\n",
            "0.03      0.751\n",
            "0.06      0.686\n",
            "0.10      0.663\n"
          ]
        }
      ]
    },
    {
      "cell_type": "code",
      "source": [
        "print(df.columns.tolist())\n"
      ],
      "metadata": {
        "colab": {
          "base_uri": "https://localhost:8080/"
        },
        "id": "QSxg-TNDeN8a",
        "outputId": "7aaaab24-5f1d-4a7a-d39c-718f59357ade"
      },
      "execution_count": 6,
      "outputs": [
        {
          "output_type": "stream",
          "name": "stdout",
          "text": [
            "['Eps', 'Method', 'Region', 'Clean mIoU', 'Adv mIoU']\n"
          ]
        }
      ]
    },
    {
      "cell_type": "code",
      "source": [
        "print(df.groupby([\"Eps\", \"Method\"]).size())\n"
      ],
      "metadata": {
        "colab": {
          "base_uri": "https://localhost:8080/"
        },
        "id": "f8yYe-oUe12T",
        "outputId": "58711000-1e69-4c10-baca-9d0193c3a63b"
      },
      "execution_count": 7,
      "outputs": [
        {
          "output_type": "stream",
          "name": "stdout",
          "text": [
            "Eps   Method \n",
            "0.00  Regular    1\n",
            "0.03  Regular    1\n",
            "0.06  Regular    1\n",
            "0.10  Regular    1\n",
            "dtype: int64\n"
          ]
        }
      ]
    },
    {
      "cell_type": "code",
      "source": [
        "df[\"Method\"] = df[\"Method\"].astype(str).str.strip()\n",
        "print(df[\"Method\"].unique())\n"
      ],
      "metadata": {
        "colab": {
          "base_uri": "https://localhost:8080/"
        },
        "id": "HodCO5ZJe9Qr",
        "outputId": "9204606f-8c15-404e-9764-d60b1231a0bc"
      },
      "execution_count": 8,
      "outputs": [
        {
          "output_type": "stream",
          "name": "stdout",
          "text": [
            "['Regular' 'Label_Smoothing' 'CutMix' 'CRAT' 'BlurPool']\n"
          ]
        }
      ]
    },
    {
      "cell_type": "code",
      "source": [
        "print(df[df[\"Eps\"].isna()])\n"
      ],
      "metadata": {
        "colab": {
          "base_uri": "https://localhost:8080/"
        },
        "id": "JdrHyQRefpCc",
        "outputId": "d1bef4ac-7b86-4ebe-a742-558d8745435c"
      },
      "execution_count": 11,
      "outputs": [
        {
          "output_type": "stream",
          "name": "stdout",
          "text": [
            "    Eps           Method  Region  Clean mIoU  Adv mIoU\n",
            "1   NaN          Regular   Right      0.8318    0.8318\n",
            "2   NaN          Regular  Center      0.8318    0.8318\n",
            "3   NaN          Regular    Full      0.8318    0.8318\n",
            "4   NaN  Label_Smoothing    Left      0.8605    0.8605\n",
            "5   NaN  Label_Smoothing   Right      0.8605    0.8605\n",
            "..  ...              ...     ...         ...       ...\n",
            "75  NaN             CRAT    Full      0.7506    0.7082\n",
            "76  NaN         BlurPool    Left      0.8318    0.5511\n",
            "77  NaN         BlurPool   Right      0.8318    0.5643\n",
            "78  NaN         BlurPool  Center      0.8318    0.5278\n",
            "79  NaN         BlurPool    Full      0.8318    0.2769\n",
            "\n",
            "[76 rows x 5 columns]\n"
          ]
        }
      ]
    },
    {
      "cell_type": "code",
      "source": [
        "df[\"Eps\"] = df[\"Eps\"].fillna(method=\"ffill\")\n"
      ],
      "metadata": {
        "colab": {
          "base_uri": "https://localhost:8080/"
        },
        "id": "vvUKB0uZfrat",
        "outputId": "873f7aed-4588-4838-e3e8-1f71c1da8147"
      },
      "execution_count": 12,
      "outputs": [
        {
          "output_type": "stream",
          "name": "stderr",
          "text": [
            "/tmp/ipython-input-3616417508.py:1: FutureWarning: Series.fillna with 'method' is deprecated and will raise in a future version. Use obj.ffill() or obj.bfill() instead.\n",
            "  df[\"Eps\"] = df[\"Eps\"].fillna(method=\"ffill\")\n"
          ]
        }
      ]
    },
    {
      "cell_type": "code",
      "source": [
        "print(df.groupby([\"Eps\",\"Method\"]).size())\n"
      ],
      "metadata": {
        "colab": {
          "base_uri": "https://localhost:8080/"
        },
        "id": "gmoLKu4lgmd2",
        "outputId": "e7697d2b-1f3b-46ec-c453-8ce8ecac81f5"
      },
      "execution_count": 13,
      "outputs": [
        {
          "output_type": "stream",
          "name": "stdout",
          "text": [
            "Eps   Method         \n",
            "0.00  BlurPool           4\n",
            "      CRAT               4\n",
            "      CutMix             4\n",
            "      Label_Smoothing    4\n",
            "      Regular            4\n",
            "0.03  BlurPool           4\n",
            "      CRAT               4\n",
            "      CutMix             4\n",
            "      Label_Smoothing    4\n",
            "      Regular            4\n",
            "0.06  BlurPool           4\n",
            "      CRAT               4\n",
            "      CutMix             4\n",
            "      Label_Smoothing    4\n",
            "      Regular            4\n",
            "0.10  BlurPool           4\n",
            "      CRAT               4\n",
            "      CutMix             4\n",
            "      Label_Smoothing    4\n",
            "      Regular            4\n",
            "dtype: int64\n"
          ]
        }
      ]
    },
    {
      "cell_type": "code",
      "source": [
        "import pandas as pd\n",
        "\n",
        "# -----------------------------\n",
        "# 1. Load Excel file\n",
        "# -----------------------------\n",
        "file_name = \"Experiment_project.xlsx\"   # replace with your actual uploaded file\n",
        "df = pd.read_excel(file_name)\n",
        "\n",
        "# -----------------------------\n",
        "# 2. Clean column names + strip spaces\n",
        "# -----------------------------\n",
        "df = df.rename(columns=lambda x: x.strip())\n",
        "\n",
        "# Ensure Eps and Method are clean\n",
        "df[\"Method\"] = df[\"Method\"].astype(str).str.strip()\n",
        "df[\"Eps\"] = pd.to_numeric(df[\"Eps\"], errors=\"coerce\")\n",
        "\n",
        "# -----------------------------\n",
        "# 3. Fix NaN in Eps by forward-filling\n",
        "# -----------------------------\n",
        "df[\"Eps\"] = df[\"Eps\"].fillna(method=\"ffill\")\n",
        "\n",
        "# -----------------------------\n",
        "# 4. Ensure numeric columns\n",
        "# -----------------------------\n",
        "df[\"Clean mIoU\"] = pd.to_numeric(df[\"Clean mIoU\"], errors=\"coerce\")\n",
        "df[\"Adv mIoU\"]   = pd.to_numeric(df[\"Adv mIoU\"], errors=\"coerce\")\n",
        "\n",
        "# -----------------------------\n",
        "# 5. Compute RRS\n",
        "# -----------------------------\n",
        "rrs = (\n",
        "    df.groupby([\"Eps\", \"Method\"])\n",
        "      .apply(lambda g: (g[\"Adv mIoU\"] / g[\"Clean mIoU\"]).mean())\n",
        "      .reset_index(name=\"RRS\")\n",
        ")\n",
        "\n",
        "# Pivot into table format\n",
        "rrs_table = rrs.pivot(index=\"Eps\", columns=\"Method\", values=\"RRS\")\n",
        "rrs_table = rrs_table.round(3)\n",
        "\n",
        "print(\"Final Relative Robustness Score (RRS) Table:\")\n",
        "print(rrs_table)\n",
        "\n",
        "# -----------------------------\n",
        "# 6. Export to LaTeX (optional)\n",
        "# -----------------------------\n",
        "latex_table = rrs_table.to_latex(\n",
        "    index=True,\n",
        "    caption=\"Relative Robustness Score (RRS) across perturbation strengths.\",\n",
        "    label=\"tab:rrs\",\n",
        "    bold_rows=True\n",
        ")\n",
        "print(latex_table)\n",
        "\n",
        "# Save if needed\n",
        "with open(\"rrs_table.tex\", \"w\") as f:\n",
        "    f.write(latex_table)\n"
      ],
      "metadata": {
        "colab": {
          "base_uri": "https://localhost:8080/"
        },
        "id": "AtiM0-1Ngx5v",
        "outputId": "1ff94472-c9ed-45a7-b133-220e91d36a38"
      },
      "execution_count": 14,
      "outputs": [
        {
          "output_type": "stream",
          "name": "stdout",
          "text": [
            "✅ Final Relative Robustness Score (RRS) Table:\n",
            "Method  BlurPool   CRAT  CutMix  Label_Smoothing  Regular\n",
            "Eps                                                      \n",
            "0.00       1.000  1.000   1.000            1.000    1.000\n",
            "0.03       0.813  0.960   0.988            0.847    0.686\n",
            "0.06       0.706  1.018   0.991            0.759    0.610\n",
            "0.10       0.577  0.967   0.606            0.743    0.577\n",
            "\\begin{table}\n",
            "\\caption{Relative Robustness Score (RRS) across perturbation strengths.}\n",
            "\\label{tab:rrs}\n",
            "\\begin{tabular}{lrrrrr}\n",
            "\\toprule\n",
            "Method & BlurPool & CRAT & CutMix & Label_Smoothing & Regular \\\\\n",
            "Eps &  &  &  &  &  \\\\\n",
            "\\midrule\n",
            "\\textbf{0.000000} & 1.000000 & 1.000000 & 1.000000 & 1.000000 & 1.000000 \\\\\n",
            "\\textbf{0.030000} & 0.813000 & 0.960000 & 0.988000 & 0.847000 & 0.686000 \\\\\n",
            "\\textbf{0.060000} & 0.706000 & 1.018000 & 0.991000 & 0.759000 & 0.610000 \\\\\n",
            "\\textbf{0.100000} & 0.577000 & 0.967000 & 0.606000 & 0.743000 & 0.577000 \\\\\n",
            "\\bottomrule\n",
            "\\end{tabular}\n",
            "\\end{table}\n",
            "\n"
          ]
        },
        {
          "output_type": "stream",
          "name": "stderr",
          "text": [
            "/tmp/ipython-input-2925950058.py:21: FutureWarning: Series.fillna with 'method' is deprecated and will raise in a future version. Use obj.ffill() or obj.bfill() instead.\n",
            "  df[\"Eps\"] = df[\"Eps\"].fillna(method=\"ffill\")\n",
            "/tmp/ipython-input-2925950058.py:34: DeprecationWarning: DataFrameGroupBy.apply operated on the grouping columns. This behavior is deprecated, and in a future version of pandas the grouping columns will be excluded from the operation. Either pass `include_groups=False` to exclude the groupings or explicitly select the grouping columns after groupby to silence this warning.\n",
            "  .apply(lambda g: (g[\"Adv mIoU\"] / g[\"Clean mIoU\"]).mean())\n"
          ]
        }
      ]
    },
    {
      "cell_type": "code",
      "source": [],
      "metadata": {
        "id": "2eg-4ydDh60Z"
      },
      "execution_count": null,
      "outputs": []
    }
  ]
}